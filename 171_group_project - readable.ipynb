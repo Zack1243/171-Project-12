{
 "cells": [
  {
   "cell_type": "code",
   "execution_count": 10,
   "metadata": {},
   "outputs": [],
   "source": [
    "import numpy as np\n",
    "import pandas as pd\n",
    "import matplotlib.pyplot as plt\n",
    "import seaborn as sns\n",
    "from sklearn.model_selection import train_test_split\n",
    "from sklearn.preprocessing import StandardScaler\n",
    "from sklearn.preprocessing import LabelEncoder\n",
    "from sklearn.metrics import accuracy_score,confusion_matrix,classification_report,plot_confusion_matrix\n",
    "from sklearn.model_selection import KFold\n",
    "from sklearn.model_selection import RepeatedKFold\n",
    "from sklearn.model_selection import RepeatedStratifiedKFold\n",
    "from sklearn.model_selection import cross_val_score\n",
    "from sklearn.linear_model import LogisticRegression\n",
    "from sklearn.neighbors import KNeighborsClassifier\n",
    "from sklearn.tree import DecisionTreeClassifier\n",
    "from sklearn.neural_network import MLPClassifier\n",
    "from sklearn.naive_bayes import GaussianNB\n",
    "from sklearn.ensemble import RandomForestClassifier\n",
    "from sklearn.model_selection import GridSearchCV, cross_val_score, StratifiedKFold, learning_curve, train_test_split, KFold\n",
    "from scipy.stats import sem\n",
    "from sklearn.utils import resample\n",
    "from sklearn import preprocessing\n",
    "import warnings\n",
    "from sklearn.metrics import precision_recall_curve,plot_precision_recall_curve,plot_roc_curve\n",
    "warnings.filterwarnings(\"ignore\")\n",
    "%matplotlib inline"
   ]
  },
  {
   "cell_type": "markdown",
   "metadata": {},
   "source": [
    "### Cull the empty data and irrelevant data columns"
   ]
  },
  {
   "cell_type": "code",
   "execution_count": 11,
   "metadata": {},
   "outputs": [
    {
     "data": {
      "text/html": [
       "<div>\n",
       "<style scoped>\n",
       "    .dataframe tbody tr th:only-of-type {\n",
       "        vertical-align: middle;\n",
       "    }\n",
       "\n",
       "    .dataframe tbody tr th {\n",
       "        vertical-align: top;\n",
       "    }\n",
       "\n",
       "    .dataframe thead th {\n",
       "        text-align: right;\n",
       "    }\n",
       "</style>\n",
       "<table border=\"1\" class=\"dataframe\">\n",
       "  <thead>\n",
       "    <tr style=\"text-align: right;\">\n",
       "      <th></th>\n",
       "      <th>columns</th>\n",
       "      <th>total missing</th>\n",
       "      <th>ration of missing</th>\n",
       "    </tr>\n",
       "  </thead>\n",
       "  <tbody>\n",
       "    <tr>\n",
       "      <th>0</th>\n",
       "      <td>age</td>\n",
       "      <td>0</td>\n",
       "      <td>0.0</td>\n",
       "    </tr>\n",
       "    <tr>\n",
       "      <th>1</th>\n",
       "      <td>workclass</td>\n",
       "      <td>0</td>\n",
       "      <td>0.0</td>\n",
       "    </tr>\n",
       "    <tr>\n",
       "      <th>2</th>\n",
       "      <td>fnlwgt</td>\n",
       "      <td>0</td>\n",
       "      <td>0.0</td>\n",
       "    </tr>\n",
       "    <tr>\n",
       "      <th>3</th>\n",
       "      <td>education</td>\n",
       "      <td>0</td>\n",
       "      <td>0.0</td>\n",
       "    </tr>\n",
       "    <tr>\n",
       "      <th>4</th>\n",
       "      <td>educational-num</td>\n",
       "      <td>0</td>\n",
       "      <td>0.0</td>\n",
       "    </tr>\n",
       "    <tr>\n",
       "      <th>5</th>\n",
       "      <td>marital-status</td>\n",
       "      <td>0</td>\n",
       "      <td>0.0</td>\n",
       "    </tr>\n",
       "    <tr>\n",
       "      <th>6</th>\n",
       "      <td>occupation</td>\n",
       "      <td>0</td>\n",
       "      <td>0.0</td>\n",
       "    </tr>\n",
       "    <tr>\n",
       "      <th>7</th>\n",
       "      <td>relationship</td>\n",
       "      <td>0</td>\n",
       "      <td>0.0</td>\n",
       "    </tr>\n",
       "    <tr>\n",
       "      <th>8</th>\n",
       "      <td>race</td>\n",
       "      <td>0</td>\n",
       "      <td>0.0</td>\n",
       "    </tr>\n",
       "    <tr>\n",
       "      <th>9</th>\n",
       "      <td>gender</td>\n",
       "      <td>0</td>\n",
       "      <td>0.0</td>\n",
       "    </tr>\n",
       "    <tr>\n",
       "      <th>10</th>\n",
       "      <td>capital-gain</td>\n",
       "      <td>0</td>\n",
       "      <td>0.0</td>\n",
       "    </tr>\n",
       "    <tr>\n",
       "      <th>11</th>\n",
       "      <td>capital-loss</td>\n",
       "      <td>0</td>\n",
       "      <td>0.0</td>\n",
       "    </tr>\n",
       "    <tr>\n",
       "      <th>12</th>\n",
       "      <td>hours-per-week</td>\n",
       "      <td>0</td>\n",
       "      <td>0.0</td>\n",
       "    </tr>\n",
       "    <tr>\n",
       "      <th>13</th>\n",
       "      <td>native-country</td>\n",
       "      <td>0</td>\n",
       "      <td>0.0</td>\n",
       "    </tr>\n",
       "    <tr>\n",
       "      <th>14</th>\n",
       "      <td>income_&gt;50K</td>\n",
       "      <td>0</td>\n",
       "      <td>0.0</td>\n",
       "    </tr>\n",
       "  </tbody>\n",
       "</table>\n",
       "</div>"
      ],
      "text/plain": [
       "            columns  total missing  ration of missing\n",
       "0               age              0                0.0\n",
       "1         workclass              0                0.0\n",
       "2            fnlwgt              0                0.0\n",
       "3         education              0                0.0\n",
       "4   educational-num              0                0.0\n",
       "5    marital-status              0                0.0\n",
       "6        occupation              0                0.0\n",
       "7      relationship              0                0.0\n",
       "8              race              0                0.0\n",
       "9            gender              0                0.0\n",
       "10     capital-gain              0                0.0\n",
       "11     capital-loss              0                0.0\n",
       "12   hours-per-week              0                0.0\n",
       "13   native-country              0                0.0\n",
       "14      income_>50K              0                0.0"
      ]
     },
     "execution_count": 11,
     "metadata": {},
     "output_type": "execute_result"
    }
   ],
   "source": [
    "train_data = pd.read_csv(\"train.csv\")\n",
    "train_data = train_data.replace('?', np.nan)\n",
    "\n",
    "def about_data(df):\n",
    "    total_missing_values = df.isnull().sum().reset_index()\n",
    "    total_missing_values = total_missing_values.rename(columns={'index':'columns',0:'total missing'})\n",
    "    total_missing_values['ration of missing'] = total_missing_values['total missing']/len(df)\n",
    "    return total_missing_values\n",
    "#There are 3 columns have null value. we can drop it because of percentage of missing value very low\n",
    "train_data.dropna(inplace=True,axis=0)\n",
    "\n",
    "about_data(train_data)"
   ]
  },
  {
   "cell_type": "code",
   "execution_count": 12,
   "metadata": {},
   "outputs": [
    {
     "name": "stdout",
     "output_type": "stream",
     "text": [
      "Correlation Matrix:\n",
      "               Correlation Coefficient\n",
      "workclass                     0.014578\n",
      "education                     0.079821\n",
      "marital-status               -0.192295\n",
      "occupation                    0.049186\n",
      "relationship                  -0.25348\n",
      "race                           0.07048\n",
      "gender                        0.215658\n",
      "native-country                0.022573\n"
     ]
    },
    {
     "data": {
      "image/png": "[encoded data removed]",
      "text/plain": [
       "<Figure size 800x600 with 2 Axes>"
      ]
     },
     "metadata": {},
     "output_type": "display_data"
    }
   ],
   "source": [
    "\n",
    "#list columns to drop\n",
    "drop_columns = ['age', 'fnlwgt', 'educational-num', 'capital-gain', 'capital-loss', 'hours-per-week']\n",
    "\n",
    "df = pd.DataFrame(train_data.drop(columns= drop_columns))\n",
    "\n",
    "# List of categorical variables\n",
    "categorical_vars = ['workclass', 'education', 'marital-status', 'occupation', 'relationship', 'race', 'gender', 'native-country']\n",
    "\n",
    "# Create an empty matrix to store correlation coefficients\n",
    "correlation_matrix = pd.DataFrame(index=categorical_vars, columns=['Correlation Coefficient'])\n",
    "\n",
    "# Iterate over categorical variables\n",
    "for cat_var in categorical_vars:\n",
    "    # Encode categorical variable if needed\n",
    "    df[cat_var] = pd.Categorical(df[cat_var]).codes\n",
    "    \n",
    "    # Calculate point-biserial correlation coefficient\n",
    "    correlation_coefficient, _ = pointbiserialr(df[cat_var], df['income_>50K'])\n",
    "    \n",
    "    # Store the result in the matrix\n",
    "    correlation_matrix.loc[cat_var, 'Correlation Coefficient'] = correlation_coefficient\n",
    "\n",
    "# Display the correlation matrix\n",
    "print(\"Correlation Matrix:\")\n",
    "print(correlation_matrix)\n",
    "\n",
    "# Create a heatmap\n",
    "plt.figure(figsize=(8, 6))\n",
    "sns.heatmap(correlation_matrix.astype(float), annot=True, cmap='coolwarm', linewidths=.5)\n",
    "plt.title('Point-Biserial Correlation Heatmap')\n",
    "plt.show()\n"
   ]
  },
  {
   "cell_type": "markdown",
   "metadata": {},
   "source": [
    "Correcting the imbalanced data"
   ]
  },
  {
   "cell_type": "code",
   "execution_count": 13,
   "metadata": {},
   "outputs": [
    {
     "ename": "NameError",
     "evalue": "name 'scaler' is not defined",
     "output_type": "error",
     "traceback": [
      "\u001b[1;31m---------------------------------------------------------------------------\u001b[0m",
      "\u001b[1;31mNameError\u001b[0m                                 Traceback (most recent call last)",
      "\u001b[1;32mc:\\Users\\Zachary\\Documents\\171\\project\\171_group_project - readable.ipynb Cell 6\u001b[0m line \u001b[0;36m5\n\u001b[0;32m      <a href='vscode-notebook-cell:/c%3A/Users/Zachary/Documents/171/project/171_group_project%20-%20readable.ipynb#W5sZmlsZQ%3D%3D?line=1'>2</a>\u001b[0m scaled_X_train, y_train \u001b[39m=\u001b[39m train\u001b[39m.\u001b[39mdrop(columns\u001b[39m=\u001b[39m[\u001b[39m'\u001b[39m\u001b[39mincome_>50K\u001b[39m\u001b[39m'\u001b[39m]), train[\u001b[39m\"\u001b[39m\u001b[39mincome_>50K\u001b[39m\u001b[39m\"\u001b[39m]\n\u001b[0;32m      <a href='vscode-notebook-cell:/c%3A/Users/Zachary/Documents/171/project/171_group_project%20-%20readable.ipynb#W5sZmlsZQ%3D%3D?line=2'>3</a>\u001b[0m scaled_X_test, y_test \u001b[39m=\u001b[39m test\u001b[39m.\u001b[39mdrop(columns\u001b[39m=\u001b[39m[\u001b[39m'\u001b[39m\u001b[39mincome_>50K\u001b[39m\u001b[39m'\u001b[39m]), test[\u001b[39m\"\u001b[39m\u001b[39mincome_>50K\u001b[39m\u001b[39m\"\u001b[39m]\n\u001b[1;32m----> <a href='vscode-notebook-cell:/c%3A/Users/Zachary/Documents/171/project/171_group_project%20-%20readable.ipynb#W5sZmlsZQ%3D%3D?line=4'>5</a>\u001b[0m scaled_X_train\u001b[39m=\u001b[39mscaler\u001b[39m.\u001b[39mfit_transform(scaled_X_train) \u001b[39m#Scaling and fitting the training set to a model\u001b[39;00m\n\u001b[0;32m      <a href='vscode-notebook-cell:/c%3A/Users/Zachary/Documents/171/project/171_group_project%20-%20readable.ipynb#W5sZmlsZQ%3D%3D?line=5'>6</a>\u001b[0m scaled_X_test\u001b[39m=\u001b[39mscaler\u001b[39m.\u001b[39mtransform(scaled_X_test)\n",
      "\u001b[1;31mNameError\u001b[0m: name 'scaler' is not defined"
     ]
    }
   ],
   "source": [
    "train, test = train_test_split(train_data, test_size=0.2, random_state=21)\n",
    "scaled_X_train, y_train = train.drop(columns=['income_>50K']), train[\"income_>50K\"]\n",
    "scaled_X_test, y_test = test.drop(columns=['income_>50K']), test[\"income_>50K\"]\n",
    "\n",
    "scaled_X_train=scaler.fit_transform(scaled_X_train) #Scaling and fitting the training set to a model\n",
    "scaled_X_test=scaler.transform(scaled_X_test)"
   ]
  },
  {
   "cell_type": "markdown",
   "metadata": {},
   "source": [
    "Logistic Regression type model"
   ]
  },
  {
   "cell_type": "code",
   "execution_count": 15,
   "metadata": {},
   "outputs": [
    {
     "ename": "ValueError",
     "evalue": "Setting a random_state has no effect since shuffle is False. You should leave random_state to its default (None), or set shuffle=True.",
     "output_type": "error",
     "traceback": [
      "\u001b[1;31m---------------------------------------------------------------------------\u001b[0m",
      "\u001b[1;31mValueError\u001b[0m                                Traceback (most recent call last)",
      "\u001b[1;32mc:\\Users\\Zachary\\Documents\\171\\project\\171_group_project - readable.ipynb Cell 8\u001b[0m line \u001b[0;36m1\n\u001b[0;32m      <a href='vscode-notebook-cell:/c%3A/Users/Zachary/Documents/171/project/171_group_project%20-%20readable.ipynb#X10sZmlsZQ%3D%3D?line=5'>6</a>\u001b[0m model_list \u001b[39m=\u001b[39m [(\u001b[39m'\u001b[39m\u001b[39mLR\u001b[39m\u001b[39m'\u001b[39m, LogisticRegression()),\n\u001b[0;32m      <a href='vscode-notebook-cell:/c%3A/Users/Zachary/Documents/171/project/171_group_project%20-%20readable.ipynb#X10sZmlsZQ%3D%3D?line=6'>7</a>\u001b[0m              (\u001b[39m'\u001b[39m\u001b[39mKNN\u001b[39m\u001b[39m'\u001b[39m, KNeighborsClassifier()),\n\u001b[0;32m      <a href='vscode-notebook-cell:/c%3A/Users/Zachary/Documents/171/project/171_group_project%20-%20readable.ipynb#X10sZmlsZQ%3D%3D?line=7'>8</a>\u001b[0m              (\u001b[39m'\u001b[39m\u001b[39mDTC\u001b[39m\u001b[39m'\u001b[39m, DecisionTreeClassifier()),\n\u001b[0;32m      <a href='vscode-notebook-cell:/c%3A/Users/Zachary/Documents/171/project/171_group_project%20-%20readable.ipynb#X10sZmlsZQ%3D%3D?line=8'>9</a>\u001b[0m              (\u001b[39m'\u001b[39m\u001b[39mRFC\u001b[39m\u001b[39m'\u001b[39m, RandomForestClassifier(n_estimators\u001b[39m=\u001b[39mtrees,max_features\u001b[39m=\u001b[39m\u001b[39m3\u001b[39m))]\n\u001b[0;32m     <a href='vscode-notebook-cell:/c%3A/Users/Zachary/Documents/171/project/171_group_project%20-%20readable.ipynb#X10sZmlsZQ%3D%3D?line=11'>12</a>\u001b[0m \u001b[39mfor\u001b[39;00m name, model \u001b[39min\u001b[39;00m model_list:\n\u001b[1;32m---> <a href='vscode-notebook-cell:/c%3A/Users/Zachary/Documents/171/project/171_group_project%20-%20readable.ipynb#X10sZmlsZQ%3D%3D?line=12'>13</a>\u001b[0m     kfold \u001b[39m=\u001b[39m KFold(n_splits\u001b[39m=\u001b[39;49m\u001b[39m10\u001b[39;49m, random_state\u001b[39m=\u001b[39;49m\u001b[39m7\u001b[39;49m)\n\u001b[0;32m     <a href='vscode-notebook-cell:/c%3A/Users/Zachary/Documents/171/project/171_group_project%20-%20readable.ipynb#X10sZmlsZQ%3D%3D?line=13'>14</a>\u001b[0m     cv_results \u001b[39m=\u001b[39m cross_val_score(model, scaled_X_train, y_train, cv\u001b[39m=\u001b[39mkfold, scoring\u001b[39m=\u001b[39m\u001b[39m'\u001b[39m\u001b[39maccuracy\u001b[39m\u001b[39m'\u001b[39m)\n\u001b[0;32m     <a href='vscode-notebook-cell:/c%3A/Users/Zachary/Documents/171/project/171_group_project%20-%20readable.ipynb#X10sZmlsZQ%3D%3D?line=14'>15</a>\u001b[0m     results\u001b[39m.\u001b[39mappend(cv_results)\n",
      "File \u001b[1;32mc:\\Users\\Zachary\\anaconda3\\lib\\site-packages\\sklearn\\model_selection\\_split.py:435\u001b[0m, in \u001b[0;36mKFold.__init__\u001b[1;34m(self, n_splits, shuffle, random_state)\u001b[0m\n\u001b[0;32m    434\u001b[0m \u001b[39mdef\u001b[39;00m \u001b[39m__init__\u001b[39m(\u001b[39mself\u001b[39m, n_splits\u001b[39m=\u001b[39m\u001b[39m5\u001b[39m, \u001b[39m*\u001b[39m, shuffle\u001b[39m=\u001b[39m\u001b[39mFalse\u001b[39;00m, random_state\u001b[39m=\u001b[39m\u001b[39mNone\u001b[39;00m):\n\u001b[1;32m--> 435\u001b[0m     \u001b[39msuper\u001b[39;49m()\u001b[39m.\u001b[39;49m\u001b[39m__init__\u001b[39;49m(n_splits\u001b[39m=\u001b[39;49mn_splits, shuffle\u001b[39m=\u001b[39;49mshuffle, random_state\u001b[39m=\u001b[39;49mrandom_state)\n",
      "File \u001b[1;32mc:\\Users\\Zachary\\anaconda3\\lib\\site-packages\\sklearn\\model_selection\\_split.py:296\u001b[0m, in \u001b[0;36m_BaseKFold.__init__\u001b[1;34m(self, n_splits, shuffle, random_state)\u001b[0m\n\u001b[0;32m    293\u001b[0m     \u001b[39mraise\u001b[39;00m \u001b[39mTypeError\u001b[39;00m(\u001b[39m\"\u001b[39m\u001b[39mshuffle must be True or False; got \u001b[39m\u001b[39m{0}\u001b[39;00m\u001b[39m\"\u001b[39m\u001b[39m.\u001b[39mformat(shuffle))\n\u001b[0;32m    295\u001b[0m \u001b[39mif\u001b[39;00m \u001b[39mnot\u001b[39;00m shuffle \u001b[39mand\u001b[39;00m random_state \u001b[39mis\u001b[39;00m \u001b[39mnot\u001b[39;00m \u001b[39mNone\u001b[39;00m:  \u001b[39m# None is the default\u001b[39;00m\n\u001b[1;32m--> 296\u001b[0m     \u001b[39mraise\u001b[39;00m \u001b[39mValueError\u001b[39;00m(\n\u001b[0;32m    297\u001b[0m         \u001b[39m\"\u001b[39m\u001b[39mSetting a random_state has no effect since shuffle is \u001b[39m\u001b[39m\"\u001b[39m\n\u001b[0;32m    298\u001b[0m         \u001b[39m\"\u001b[39m\u001b[39mFalse. You should leave \u001b[39m\u001b[39m\"\u001b[39m\n\u001b[0;32m    299\u001b[0m         \u001b[39m\"\u001b[39m\u001b[39mrandom_state to its default (None), or set shuffle=True.\u001b[39m\u001b[39m\"\u001b[39m,\n\u001b[0;32m    300\u001b[0m     )\n\u001b[0;32m    302\u001b[0m \u001b[39mself\u001b[39m\u001b[39m.\u001b[39mn_splits \u001b[39m=\u001b[39m n_splits\n\u001b[0;32m    303\u001b[0m \u001b[39mself\u001b[39m\u001b[39m.\u001b[39mshuffle \u001b[39m=\u001b[39m shuffle\n",
      "\u001b[1;31mValueError\u001b[0m: Setting a random_state has no effect since shuffle is False. You should leave random_state to its default (None), or set shuffle=True."
     ]
    }
   ],
   "source": [
    "trees = 100\n",
    "max_features = 3\n",
    "results = []\n",
    "names_of_models = []\n",
    "\n",
    "model_list = [('LR', LogisticRegression()),\n",
    "             ('KNN', KNeighborsClassifier()),\n",
    "             ('DTC', DecisionTreeClassifier()),\n",
    "             ('RFC', RandomForestClassifier(n_estimators=trees,max_features=3))]\n",
    "\n",
    "\n",
    "for name, model in model_list:\n",
    "    kfold = KFold(n_splits=10, random_state=7)\n",
    "    cv_results = cross_val_score(model, scaled_X_train, y_train, cv=kfold, scoring='accuracy')\n",
    "    results.append(cv_results)\n",
    "    names_of_models.append(name)\n",
    "    res = \"{}: {} ({})\".format(name, cv_results.mean(), cv_results.std())\n",
    "    print(res)"
   ]
  },
  {
   "cell_type": "markdown",
   "metadata": {},
   "source": [
    "Retrain with tuned parameters"
   ]
  },
  {
   "cell_type": "code",
   "execution_count": null,
   "metadata": {},
   "outputs": [],
   "source": [
    "parameters_for_testing = {\n",
    "\"n_estimators\"    : [50,100,150,200,250] ,\n",
    " \"max_features\"        : [1,2,3,4,5],\n",
    "}\n",
    "model = RandomForestClassifier()\n",
    "\n",
    "kfold = KFold(n_splits=10, random_state=42)\n",
    "grid_cv = GridSearchCV(estimator=model, param_grid=parameters_for_testing, scoring='accuracy', cv=kfold)\n",
    "result = grid_cv.fit(scaled_X_train, y_train)\n",
    "\n",
    "print(\"Best: {} using {}\".format(result.best_score_, result.best_params_))\n",
    "means = result.cv_results_['mean_test_score']\n",
    "stds = result.cv_results_['std_test_score']\n",
    "params = result.cv_results_['params']\n",
    "for mean, stdev, param in zip(means, stds, params):\n",
    "    print(\"{}  {} with: {}\" .format(mean, stdev, param))"
   ]
  },
  {
   "cell_type": "code",
   "execution_count": null,
   "metadata": {},
   "outputs": [],
   "source": [
    "tuned_model_rf = RandomForestClassifier(n_estimators=150,max_features=5)\n",
    "tuned_model_rf.fit(scaled_X_train, y_train)\n",
    "predictions = tuned_model_rf.predict(scaled_X_test)"
   ]
  }
 ],
 "metadata": {
  "kernelspec": {
   "display_name": "base",
   "language": "python",
   "name": "python3"
  },
  "language_info": {
   "codemirror_mode": {
    "name": "ipython",
    "version": 3
   },
   "file_extension": ".py",
   "mimetype": "text/x-python",
   "name": "python",
   "nbconvert_exporter": "python",
   "pygments_lexer": "ipython3",
   "version": "3.9.13"
  }
 },
 "nbformat": 4,
 "nbformat_minor": 2
}
